{
 "cells": [
  {
   "cell_type": "markdown",
   "metadata": {},
   "source": [
    "I am focusing on Problem 48 \"Self Powers\" from [ProjectEuler.net](https://projecteuler.net/problem=48):\n",
    "\n",
    "The problem:\n",
    "> The series, 1^1 + 2^2 + 3^3 + … + 10^10 = 10405071317. Find the last ten digits of the series, 1^1 + 2^2 + 3^3 + … + 1000^1000.\n",
    "\n",
    "Jupyter Notebook: (There is current issues pushing, will address in meeting)\n",
    "\n",
    "Here is the raw code in Jupyter Notebook:"
   ]
  },
  {
   "cell_type": "code",
   "execution_count": 1,
   "metadata": {},
   "outputs": [
    {
     "name": "stdout",
     "output_type": "stream",
     "text": [
      "Solution = 9110846700\n"
     ]
    }
   ],
   "source": [
    "# Project Euler Problem #48 - Self Powers\n",
    "\n",
    "L = 1000    \n",
    "d = 10**10\n",
    "# s = sum(pow(n, n, d) for n in range(1, L+1)) \n",
    "s = sum(pow(n, n) for n in range(1, L+1)) \n",
    "\n",
    "print(\"Solution = %d\" % (s % d))\n",
    "# Should print \"Solution = 9110846700\""
   ]
  },
  {
   "cell_type": "markdown",
   "metadata": {},
   "source": [
    "This was an interesting problem for me to solve because of how large the solution can be if you do not take the sum of the 10 least significant digits. I found that I did not need to use the modpow implementation in my program by using Python’s pow function. Though for some fun, I went ahead and also used the modpow function to solve this problem as well."
   ]
  },
  {
   "cell_type": "code",
   "execution_count": 5,
   "metadata": {},
   "outputs": [
    {
     "ename": "NameError",
     "evalue": "name 'z' is not defined",
     "output_type": "error",
     "traceback": [
      "\u001b[0;31m---------------------------------------------------------------------------\u001b[0m",
      "\u001b[0;31mNameError\u001b[0m                                 Traceback (most recent call last)",
      "\u001b[1;32m/workspaces/E-Portfolio/euler.ipynb Cell 4\u001b[0m line \u001b[0;36m1\n\u001b[1;32m      <a href='vscode-notebook-cell://codespaces%2Bglowing-winner-979wxwj5rrxvcpq7v/workspaces/E-Portfolio/euler.ipynb#W4sdnNjb2RlLXJlbW90ZQ%3D%3D?line=8'>9</a>\u001b[0m     a \u001b[39m=\u001b[39m a \u001b[39m>>\u001b[39m \u001b[39m1\u001b[39m\n\u001b[1;32m     <a href='vscode-notebook-cell://codespaces%2Bglowing-winner-979wxwj5rrxvcpq7v/workspaces/E-Portfolio/euler.ipynb#W4sdnNjb2RlLXJlbW90ZQ%3D%3D?line=9'>10</a>\u001b[0m   \u001b[39mreturn\u001b[39;00m n\n\u001b[0;32m---> <a href='vscode-notebook-cell://codespaces%2Bglowing-winner-979wxwj5rrxvcpq7v/workspaces/E-Portfolio/euler.ipynb#W4sdnNjb2RlLXJlbW90ZQ%3D%3D?line=10'>11</a>\u001b[0m \u001b[39mprint\u001b[39m(modpow (z,a, m))\n\u001b[1;32m     <a href='vscode-notebook-cell://codespaces%2Bglowing-winner-979wxwj5rrxvcpq7v/workspaces/E-Portfolio/euler.ipynb#W4sdnNjb2RlLXJlbW90ZQ%3D%3D?line=12'>13</a>\u001b[0m \u001b[39m#=> Solves to: 9110846700\u001b[39;00m\n",
      "\u001b[0;31mNameError\u001b[0m: name 'z' is not defined"
     ]
    }
   ],
   "source": [
    "#Project Euler Problem #48 - Self Powers\n",
    "\n",
    "def modpow(z, a, m):\n",
    "  n = 1\n",
    "  while a > 0:\n",
    "    if a & 1:\n",
    "      n = (n * z) % m\n",
    "    z = (z * z) % m\n",
    "    a = a >> 1\n",
    "  return n\n",
    "print(modpow (z,a, m))\n",
    "\n",
    "#=> Solves to: 9110846700"
   ]
  }
 ],
 "metadata": {
  "kernelspec": {
   "display_name": "Python 3",
   "language": "python",
   "name": "python3"
  },
  "language_info": {
   "codemirror_mode": {
    "name": "ipython",
    "version": 3
   },
   "file_extension": ".py",
   "mimetype": "text/x-python",
   "name": "python",
   "nbconvert_exporter": "python",
   "pygments_lexer": "ipython3",
   "version": "3.10.8"
  }
 },
 "nbformat": 4,
 "nbformat_minor": 2
}
