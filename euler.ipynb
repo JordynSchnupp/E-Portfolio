{
 "cells": [
  {
   "cell_type": "markdown",
   "metadata": {},
   "source": [
    "I am focusing on Problem 48 \"Self Powers\" from [ProjectEuler.net](https://projecteuler.net/problem=48):\n",
    "\n",
    "The problem:\n",
    "> The series, 1^1 + 2^2 + 3^3 + … + 10^10 = 10405071317. Find the last ten digits of the series, 1^1 + 2^2 + 3^3 + … + 1000^1000.\n",
    "\n",
    "Jupyter Notebook: (There is current issues pushing, will address in meeting)\n",
    "\n",
    "Here is the raw code in Jupyter Notebook:"
   ]
  },
  {
   "cell_type": "code",
   "execution_count": 1,
   "metadata": {},
   "outputs": [
    {
     "name": "stdout",
     "output_type": "stream",
     "text": [
      "Solution = 9110846700\n"
     ]
    }
   ],
   "source": [
    "# Project Euler Problem #48 - Self Powers\n",
    "\n",
    "L = 1000    \n",
    "d = 10**10\n",
    "# s = sum(pow(n, n, d) for n in range(1, L+1)) \n",
    "s = sum(pow(n, n) for n in range(1, L+1)) \n",
    "\n",
    "print(\"Solution = %d\" % (s % d))\n",
    "# Should print \"Solution = 9110846700\""
   ]
  },
  {
   "cell_type": "markdown",
   "metadata": {},
   "source": [
    "This was an interesting problem for me to solve because of how large the solution can be if you do not take the sum of the 10 least significant digits. I found that I did not need to use the modpow implementation in my program by using Python’s pow function. Though for some fun, I went ahead and also used the modpow function to solve this problem as well."
   ]
  },
  {
   "cell_type": "code",
   "execution_count": 2,
   "metadata": {},
   "outputs": [
    {
     "name": "stdout",
     "output_type": "stream",
     "text": [
      "The last 10 digits of the series sum are: 9110846700\n"
     ]
    }
   ],
   "source": [
    "# Project Euler Problem #48 - Self Powers\n",
    "\n",
    "def modpow(z, a, m):\n",
    "    n = 1\n",
    "    while a > 0:\n",
    "        if a & 1:\n",
    "            n = (n * z) % m\n",
    "        z = (z * z) % m\n",
    "        a = a >> 1\n",
    "    return n\n",
    "\n",
    "def self_powers(limit):\n",
    "    result = 0\n",
    "    modulo = 10**10 \n",
    "\n",
    "    for i in range(1, limit + 1):\n",
    "        result = (result + modpow(i, i, modulo)) % modulo\n",
    "\n",
    "    return result\n",
    "\n",
    "if __name__ == \"__main__\":\n",
    "    limit = 1000  \n",
    "    result = self_powers(limit)\n",
    "    print(f\"The last 10 digits of the series sum are: {result}\")\n",
    "\n",
    "    # Prints \"The last 10 digits of the series sum are: 9110846700\""
   ]
  }
 ],
 "metadata": {
  "kernelspec": {
   "display_name": "Python 3",
   "language": "python",
   "name": "python3"
  },
  "language_info": {
   "codemirror_mode": {
    "name": "ipython",
    "version": 3
   },
   "file_extension": ".py",
   "mimetype": "text/x-python",
   "name": "python",
   "nbconvert_exporter": "python",
   "pygments_lexer": "ipython3",
   "version": "3.10.8"
  }
 },
 "nbformat": 4,
 "nbformat_minor": 2
}
